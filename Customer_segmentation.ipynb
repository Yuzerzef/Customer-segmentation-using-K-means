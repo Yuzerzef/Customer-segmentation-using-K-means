{
  "cells": [
    {
      "cell_type": "markdown",
      "metadata": {
        "id": "view-in-github",
        "colab_type": "text"
      },
      "source": [
        "<a href=\"https://colab.research.google.com/github/Yuzerzef/Customer-segmentation-using-K-means/blob/main/Customer_segmentation.ipynb\" target=\"_parent\"><img src=\"https://colab.research.google.com/assets/colab-badge.svg\" alt=\"Open In Colab\"/></a>"
      ]
    },
    {
      "cell_type": "code",
      "execution_count": null,
      "id": "401a3a83",
      "metadata": {
        "id": "401a3a83"
      },
      "outputs": [],
      "source": [
        "data<-read.csv(\"C:\\\\Users\\\\Yuzer Zef\\\\Desktop\\\\segmentation data.csv\")"
      ]
    },
    {
      "cell_type": "code",
      "execution_count": null,
      "id": "46269ceb",
      "metadata": {
        "id": "46269ceb",
        "outputId": "7e71bd34-9007-4ac1-cfff-429a9dd3cd3b"
      },
      "outputs": [
        {
          "data": {
            "text/html": [
              "<table>\n",
              "<thead><tr><th scope=col>ID</th><th scope=col>Sex</th><th scope=col>Marital.status</th><th scope=col>Age</th><th scope=col>Education</th><th scope=col>Income</th><th scope=col>Occupation</th><th scope=col>Settlement.size</th></tr></thead>\n",
              "<tbody>\n",
              "\t<tr><td>100000001</td><td>0        </td><td>0        </td><td>67       </td><td>2        </td><td>124670   </td><td>1        </td><td>2        </td></tr>\n",
              "\t<tr><td>100000002</td><td>1        </td><td>1        </td><td>22       </td><td>1        </td><td>150773   </td><td>1        </td><td>2        </td></tr>\n",
              "\t<tr><td>100000003</td><td>0        </td><td>0        </td><td>49       </td><td>1        </td><td> 89210   </td><td>0        </td><td>0        </td></tr>\n",
              "\t<tr><td>100000004</td><td>0        </td><td>0        </td><td>45       </td><td>1        </td><td>171565   </td><td>1        </td><td>1        </td></tr>\n",
              "\t<tr><td>100000005</td><td>0        </td><td>0        </td><td>53       </td><td>1        </td><td>149031   </td><td>1        </td><td>1        </td></tr>\n",
              "\t<tr><td>100000006</td><td>0        </td><td>0        </td><td>35       </td><td>1        </td><td>144848   </td><td>0        </td><td>0        </td></tr>\n",
              "</tbody>\n",
              "</table>\n"
            ],
            "text/latex": [
              "\\begin{tabular}{r|llllllll}\n",
              " ID & Sex & Marital.status & Age & Education & Income & Occupation & Settlement.size\\\\\n",
              "\\hline\n",
              "\t 100000001 & 0         & 0         & 67        & 2         & 124670    & 1         & 2        \\\\\n",
              "\t 100000002 & 1         & 1         & 22        & 1         & 150773    & 1         & 2        \\\\\n",
              "\t 100000003 & 0         & 0         & 49        & 1         &  89210    & 0         & 0        \\\\\n",
              "\t 100000004 & 0         & 0         & 45        & 1         & 171565    & 1         & 1        \\\\\n",
              "\t 100000005 & 0         & 0         & 53        & 1         & 149031    & 1         & 1        \\\\\n",
              "\t 100000006 & 0         & 0         & 35        & 1         & 144848    & 0         & 0        \\\\\n",
              "\\end{tabular}\n"
            ],
            "text/markdown": [
              "\n",
              "| ID | Sex | Marital.status | Age | Education | Income | Occupation | Settlement.size |\n",
              "|---|---|---|---|---|---|---|---|\n",
              "| 100000001 | 0         | 0         | 67        | 2         | 124670    | 1         | 2         |\n",
              "| 100000002 | 1         | 1         | 22        | 1         | 150773    | 1         | 2         |\n",
              "| 100000003 | 0         | 0         | 49        | 1         |  89210    | 0         | 0         |\n",
              "| 100000004 | 0         | 0         | 45        | 1         | 171565    | 1         | 1         |\n",
              "| 100000005 | 0         | 0         | 53        | 1         | 149031    | 1         | 1         |\n",
              "| 100000006 | 0         | 0         | 35        | 1         | 144848    | 0         | 0         |\n",
              "\n"
            ],
            "text/plain": [
              "  ID        Sex Marital.status Age Education Income Occupation Settlement.size\n",
              "1 100000001 0   0              67  2         124670 1          2              \n",
              "2 100000002 1   1              22  1         150773 1          2              \n",
              "3 100000003 0   0              49  1          89210 0          0              \n",
              "4 100000004 0   0              45  1         171565 1          1              \n",
              "5 100000005 0   0              53  1         149031 1          1              \n",
              "6 100000006 0   0              35  1         144848 0          0              "
            ]
          },
          "metadata": {},
          "output_type": "display_data"
        }
      ],
      "source": [
        "head(data)"
      ]
    },
    {
      "cell_type": "code",
      "execution_count": null,
      "id": "0e9053e6",
      "metadata": {
        "id": "0e9053e6",
        "outputId": "e90bee98-be4f-4edc-9efd-b4db634537b9"
      },
      "outputs": [
        {
          "data": {
            "text/html": [
              "<table>\n",
              "<thead><tr><th></th><th scope=col>ID</th><th scope=col>Sex</th><th scope=col>Marital.status</th><th scope=col>Age</th><th scope=col>Education</th><th scope=col>Income</th><th scope=col>Occupation</th><th scope=col>Settlement.size</th></tr></thead>\n",
              "<tbody>\n",
              "\t<tr><th scope=row>1995</th><td>100001995</td><td>0        </td><td>0        </td><td>45       </td><td>1        </td><td>113414   </td><td>1        </td><td>0        </td></tr>\n",
              "\t<tr><th scope=row>1996</th><td>100001996</td><td>1        </td><td>0        </td><td>47       </td><td>1        </td><td>123525   </td><td>0        </td><td>0        </td></tr>\n",
              "\t<tr><th scope=row>1997</th><td>100001997</td><td>1        </td><td>1        </td><td>27       </td><td>1        </td><td>117744   </td><td>1        </td><td>0        </td></tr>\n",
              "\t<tr><th scope=row>1998</th><td>100001998</td><td>0        </td><td>0        </td><td>31       </td><td>0        </td><td> 86400   </td><td>0        </td><td>0        </td></tr>\n",
              "\t<tr><th scope=row>1999</th><td>100001999</td><td>1        </td><td>1        </td><td>24       </td><td>1        </td><td> 97968   </td><td>0        </td><td>0        </td></tr>\n",
              "\t<tr><th scope=row>2000</th><td>100002000</td><td>0        </td><td>0        </td><td>25       </td><td>0        </td><td> 68416   </td><td>0        </td><td>0        </td></tr>\n",
              "</tbody>\n",
              "</table>\n"
            ],
            "text/latex": [
              "\\begin{tabular}{r|llllllll}\n",
              "  & ID & Sex & Marital.status & Age & Education & Income & Occupation & Settlement.size\\\\\n",
              "\\hline\n",
              "\t1995 & 100001995 & 0         & 0         & 45        & 1         & 113414    & 1         & 0        \\\\\n",
              "\t1996 & 100001996 & 1         & 0         & 47        & 1         & 123525    & 0         & 0        \\\\\n",
              "\t1997 & 100001997 & 1         & 1         & 27        & 1         & 117744    & 1         & 0        \\\\\n",
              "\t1998 & 100001998 & 0         & 0         & 31        & 0         &  86400    & 0         & 0        \\\\\n",
              "\t1999 & 100001999 & 1         & 1         & 24        & 1         &  97968    & 0         & 0        \\\\\n",
              "\t2000 & 100002000 & 0         & 0         & 25        & 0         &  68416    & 0         & 0        \\\\\n",
              "\\end{tabular}\n"
            ],
            "text/markdown": [
              "\n",
              "| <!--/--> | ID | Sex | Marital.status | Age | Education | Income | Occupation | Settlement.size |\n",
              "|---|---|---|---|---|---|---|---|---|\n",
              "| 1995 | 100001995 | 0         | 0         | 45        | 1         | 113414    | 1         | 0         |\n",
              "| 1996 | 100001996 | 1         | 0         | 47        | 1         | 123525    | 0         | 0         |\n",
              "| 1997 | 100001997 | 1         | 1         | 27        | 1         | 117744    | 1         | 0         |\n",
              "| 1998 | 100001998 | 0         | 0         | 31        | 0         |  86400    | 0         | 0         |\n",
              "| 1999 | 100001999 | 1         | 1         | 24        | 1         |  97968    | 0         | 0         |\n",
              "| 2000 | 100002000 | 0         | 0         | 25        | 0         |  68416    | 0         | 0         |\n",
              "\n"
            ],
            "text/plain": [
              "     ID        Sex Marital.status Age Education Income Occupation\n",
              "1995 100001995 0   0              45  1         113414 1         \n",
              "1996 100001996 1   0              47  1         123525 0         \n",
              "1997 100001997 1   1              27  1         117744 1         \n",
              "1998 100001998 0   0              31  0          86400 0         \n",
              "1999 100001999 1   1              24  1          97968 0         \n",
              "2000 100002000 0   0              25  0          68416 0         \n",
              "     Settlement.size\n",
              "1995 0              \n",
              "1996 0              \n",
              "1997 0              \n",
              "1998 0              \n",
              "1999 0              \n",
              "2000 0              "
            ]
          },
          "metadata": {},
          "output_type": "display_data"
        }
      ],
      "source": [
        "tail(data)"
      ]
    },
    {
      "cell_type": "code",
      "execution_count": null,
      "id": "7835068f",
      "metadata": {
        "id": "7835068f",
        "outputId": "ad3b9f08-c45f-4b95-bb44-b2234daae457"
      },
      "outputs": [
        {
          "data": {
            "text/html": [
              "<dl class=dl-horizontal>\n",
              "\t<dt>ID</dt>\n",
              "\t\t<dd>0</dd>\n",
              "\t<dt>Sex</dt>\n",
              "\t\t<dd>0</dd>\n",
              "\t<dt>Marital.status</dt>\n",
              "\t\t<dd>0</dd>\n",
              "\t<dt>Age</dt>\n",
              "\t\t<dd>0</dd>\n",
              "\t<dt>Education</dt>\n",
              "\t\t<dd>0</dd>\n",
              "\t<dt>Income</dt>\n",
              "\t\t<dd>0</dd>\n",
              "\t<dt>Occupation</dt>\n",
              "\t\t<dd>0</dd>\n",
              "\t<dt>Settlement.size</dt>\n",
              "\t\t<dd>0</dd>\n",
              "</dl>\n"
            ],
            "text/latex": [
              "\\begin{description*}\n",
              "\\item[ID] 0\n",
              "\\item[Sex] 0\n",
              "\\item[Marital.status] 0\n",
              "\\item[Age] 0\n",
              "\\item[Education] 0\n",
              "\\item[Income] 0\n",
              "\\item[Occupation] 0\n",
              "\\item[Settlement.size] 0\n",
              "\\end{description*}\n"
            ],
            "text/markdown": [
              "ID\n",
              ":   0Sex\n",
              ":   0Marital.status\n",
              ":   0Age\n",
              ":   0Education\n",
              ":   0Income\n",
              ":   0Occupation\n",
              ":   0Settlement.size\n",
              ":   0\n",
              "\n"
            ],
            "text/plain": [
              "             ID             Sex  Marital.status             Age       Education \n",
              "              0               0               0               0               0 \n",
              "         Income      Occupation Settlement.size \n",
              "              0               0               0 "
            ]
          },
          "metadata": {},
          "output_type": "display_data"
        }
      ],
      "source": [
        "colSums(is.na(data))"
      ]
    },
    {
      "cell_type": "code",
      "execution_count": null,
      "id": "6f372b11",
      "metadata": {
        "id": "6f372b11",
        "outputId": "a3cdcd2a-a7a6-4003-fc07-a0752e721a16"
      },
      "outputs": [
        {
          "name": "stdout",
          "output_type": "stream",
          "text": [
            "'data.frame':\t2000 obs. of  8 variables:\n",
            " $ ID             : int  100000001 100000002 100000003 100000004 100000005 100000006 100000007 100000008 100000009 100000010 ...\n",
            " $ Sex            : int  0 1 0 0 0 0 0 0 0 0 ...\n",
            " $ Marital.status : int  0 1 0 0 0 0 0 0 1 1 ...\n",
            " $ Age            : int  67 22 49 45 53 35 53 35 61 28 ...\n",
            " $ Education      : int  2 1 1 1 1 1 1 1 2 1 ...\n",
            " $ Income         : int  124670 150773 89210 171565 149031 144848 156495 193621 151591 174646 ...\n",
            " $ Occupation     : int  1 1 0 1 1 0 1 2 0 2 ...\n",
            " $ Settlement.size: int  2 2 0 1 1 0 1 1 0 0 ...\n"
          ]
        }
      ],
      "source": [
        "str(data)"
      ]
    },
    {
      "cell_type": "code",
      "execution_count": null,
      "id": "40051c73",
      "metadata": {
        "id": "40051c73",
        "outputId": "2e92f1fb-6f4a-4444-eeb1-b1bba0f1517d"
      },
      "outputs": [
        {
          "data": {
            "text/html": [
              "<ol class=list-inline>\n",
              "\t<li>2000</li>\n",
              "\t<li>8</li>\n",
              "</ol>\n"
            ],
            "text/latex": [
              "\\begin{enumerate*}\n",
              "\\item 2000\n",
              "\\item 8\n",
              "\\end{enumerate*}\n"
            ],
            "text/markdown": [
              "1. 2000\n",
              "2. 8\n",
              "\n",
              "\n"
            ],
            "text/plain": [
              "[1] 2000    8"
            ]
          },
          "metadata": {},
          "output_type": "display_data"
        }
      ],
      "source": [
        "dim(data)"
      ]
    },
    {
      "cell_type": "code",
      "execution_count": null,
      "id": "9953e520",
      "metadata": {
        "id": "9953e520",
        "outputId": "7535ebbf-0f8a-4c25-9b8d-8b92494b81af"
      },
      "outputs": [
        {
          "data": {
            "text/html": [
              "<ol class=list-inline>\n",
              "\t<li>'ID'</li>\n",
              "\t<li>'Sex'</li>\n",
              "\t<li>'Marital.status'</li>\n",
              "\t<li>'Age'</li>\n",
              "\t<li>'Education'</li>\n",
              "\t<li>'Income'</li>\n",
              "\t<li>'Occupation'</li>\n",
              "\t<li>'Settlement.size'</li>\n",
              "</ol>\n"
            ],
            "text/latex": [
              "\\begin{enumerate*}\n",
              "\\item 'ID'\n",
              "\\item 'Sex'\n",
              "\\item 'Marital.status'\n",
              "\\item 'Age'\n",
              "\\item 'Education'\n",
              "\\item 'Income'\n",
              "\\item 'Occupation'\n",
              "\\item 'Settlement.size'\n",
              "\\end{enumerate*}\n"
            ],
            "text/markdown": [
              "1. 'ID'\n",
              "2. 'Sex'\n",
              "3. 'Marital.status'\n",
              "4. 'Age'\n",
              "5. 'Education'\n",
              "6. 'Income'\n",
              "7. 'Occupation'\n",
              "8. 'Settlement.size'\n",
              "\n",
              "\n"
            ],
            "text/plain": [
              "[1] \"ID\"              \"Sex\"             \"Marital.status\"  \"Age\"            \n",
              "[5] \"Education\"       \"Income\"          \"Occupation\"      \"Settlement.size\""
            ]
          },
          "metadata": {},
          "output_type": "display_data"
        }
      ],
      "source": [
        "names(data)"
      ]
    },
    {
      "cell_type": "code",
      "execution_count": null,
      "id": "a01092db",
      "metadata": {
        "id": "a01092db",
        "outputId": "d5d80aeb-d692-45de-c78a-fc9b4275a824"
      },
      "outputs": [
        {
          "data": {
            "text/plain": [
              "       ID             Sex        Marital.status        Age       \n",
              " Min.   :1e+08   Min.   :0.000   Min.   :0.0000   Min.   :18.00  \n",
              " 1st Qu.:1e+08   1st Qu.:0.000   1st Qu.:0.0000   1st Qu.:27.00  \n",
              " Median :1e+08   Median :0.000   Median :0.0000   Median :33.00  \n",
              " Mean   :1e+08   Mean   :0.457   Mean   :0.4965   Mean   :35.91  \n",
              " 3rd Qu.:1e+08   3rd Qu.:1.000   3rd Qu.:1.0000   3rd Qu.:42.00  \n",
              " Max.   :1e+08   Max.   :1.000   Max.   :1.0000   Max.   :76.00  \n",
              "   Education         Income         Occupation     Settlement.size\n",
              " Min.   :0.000   Min.   : 35832   Min.   :0.0000   Min.   :0.000  \n",
              " 1st Qu.:1.000   1st Qu.: 97663   1st Qu.:0.0000   1st Qu.:0.000  \n",
              " Median :1.000   Median :115549   Median :1.0000   Median :1.000  \n",
              " Mean   :1.038   Mean   :120954   Mean   :0.8105   Mean   :0.739  \n",
              " 3rd Qu.:1.000   3rd Qu.:138072   3rd Qu.:1.0000   3rd Qu.:1.000  \n",
              " Max.   :3.000   Max.   :309364   Max.   :2.0000   Max.   :2.000  "
            ]
          },
          "metadata": {},
          "output_type": "display_data"
        }
      ],
      "source": [
        "summary(data)"
      ]
    },
    {
      "cell_type": "code",
      "execution_count": null,
      "id": "2a2003ff",
      "metadata": {
        "id": "2a2003ff",
        "outputId": "b7ac5059-c164-4fb3-bf05-ad5f8acf8813"
      },
      "outputs": [
        {
          "name": "stdout",
          "output_type": "stream",
          "text": [
            "[1] \"Correlation matrix\"\n"
          ]
        },
        {
          "data": {
            "text/html": [
              "<table>\n",
              "<thead><tr><th></th><th scope=col>ID</th><th scope=col>Sex</th><th scope=col>Marital.status</th><th scope=col>Age</th><th scope=col>Education</th><th scope=col>Income</th><th scope=col>Occupation</th><th scope=col>Settlement.size</th></tr></thead>\n",
              "<tbody>\n",
              "\t<tr><th scope=row>ID</th><td> 1.00000000</td><td> 0.3282620 </td><td> 0.07440294</td><td>-0.08524641</td><td>0.01254346 </td><td>-0.30321665</td><td>-0.29195832</td><td>-0.3784447 </td></tr>\n",
              "\t<tr><th scope=row>Sex</th><td> 0.32826204</td><td> 1.0000000 </td><td> 0.56651067</td><td>-0.18288480</td><td>0.24483756 </td><td>-0.19514642</td><td>-0.20249118</td><td>-0.3008032 </td></tr>\n",
              "\t<tr><th scope=row>Marital.status</th><td> 0.07440294</td><td> 0.5665107 </td><td> 1.00000000</td><td>-0.21317835</td><td>0.37401654 </td><td>-0.07352773</td><td>-0.02948958</td><td>-0.0970406 </td></tr>\n",
              "\t<tr><th scope=row>Age</th><td>-0.08524641</td><td>-0.1828848 </td><td>-0.21317835</td><td> 1.00000000</td><td>0.65460499 </td><td> 0.34061016</td><td> 0.10838805</td><td> 0.1197513 </td></tr>\n",
              "\t<tr><th scope=row>Education</th><td> 0.01254346</td><td> 0.2448376 </td><td> 0.37401654</td><td> 0.65460499</td><td>1.00000000 </td><td> 0.23345865</td><td> 0.06452376</td><td> 0.0347323 </td></tr>\n",
              "\t<tr><th scope=row>Income</th><td>-0.30321665</td><td>-0.1951464 </td><td>-0.07352773</td><td> 0.34061016</td><td>0.23345865 </td><td> 1.00000000</td><td> 0.68035740</td><td> 0.4908809 </td></tr>\n",
              "\t<tr><th scope=row>Occupation</th><td>-0.29195832</td><td>-0.2024912 </td><td>-0.02948958</td><td> 0.10838805</td><td>0.06452376 </td><td> 0.68035740</td><td> 1.00000000</td><td> 0.5717948 </td></tr>\n",
              "\t<tr><th scope=row>Settlement.size</th><td>-0.37844469</td><td>-0.3008032 </td><td>-0.09704060</td><td> 0.11975129</td><td>0.03473230 </td><td> 0.49088093</td><td> 0.57179484</td><td> 1.0000000 </td></tr>\n",
              "</tbody>\n",
              "</table>\n"
            ],
            "text/latex": [
              "\\begin{tabular}{r|llllllll}\n",
              "  & ID & Sex & Marital.status & Age & Education & Income & Occupation & Settlement.size\\\\\n",
              "\\hline\n",
              "\tID &  1.00000000 &  0.3282620  &  0.07440294 & -0.08524641 & 0.01254346  & -0.30321665 & -0.29195832 & -0.3784447 \\\\\n",
              "\tSex &  0.32826204 &  1.0000000  &  0.56651067 & -0.18288480 & 0.24483756  & -0.19514642 & -0.20249118 & -0.3008032 \\\\\n",
              "\tMarital.status &  0.07440294 &  0.5665107  &  1.00000000 & -0.21317835 & 0.37401654  & -0.07352773 & -0.02948958 & -0.0970406 \\\\\n",
              "\tAge & -0.08524641 & -0.1828848  & -0.21317835 &  1.00000000 & 0.65460499  &  0.34061016 &  0.10838805 &  0.1197513 \\\\\n",
              "\tEducation &  0.01254346 &  0.2448376  &  0.37401654 &  0.65460499 & 1.00000000  &  0.23345865 &  0.06452376 &  0.0347323 \\\\\n",
              "\tIncome & -0.30321665 & -0.1951464  & -0.07352773 &  0.34061016 & 0.23345865  &  1.00000000 &  0.68035740 &  0.4908809 \\\\\n",
              "\tOccupation & -0.29195832 & -0.2024912  & -0.02948958 &  0.10838805 & 0.06452376  &  0.68035740 &  1.00000000 &  0.5717948 \\\\\n",
              "\tSettlement.size & -0.37844469 & -0.3008032  & -0.09704060 &  0.11975129 & 0.03473230  &  0.49088093 &  0.57179484 &  1.0000000 \\\\\n",
              "\\end{tabular}\n"
            ],
            "text/markdown": [
              "\n",
              "| <!--/--> | ID | Sex | Marital.status | Age | Education | Income | Occupation | Settlement.size |\n",
              "|---|---|---|---|---|---|---|---|---|\n",
              "| ID |  1.00000000 |  0.3282620  |  0.07440294 | -0.08524641 | 0.01254346  | -0.30321665 | -0.29195832 | -0.3784447  |\n",
              "| Sex |  0.32826204 |  1.0000000  |  0.56651067 | -0.18288480 | 0.24483756  | -0.19514642 | -0.20249118 | -0.3008032  |\n",
              "| Marital.status |  0.07440294 |  0.5665107  |  1.00000000 | -0.21317835 | 0.37401654  | -0.07352773 | -0.02948958 | -0.0970406  |\n",
              "| Age | -0.08524641 | -0.1828848  | -0.21317835 |  1.00000000 | 0.65460499  |  0.34061016 |  0.10838805 |  0.1197513  |\n",
              "| Education |  0.01254346 |  0.2448376  |  0.37401654 |  0.65460499 | 1.00000000  |  0.23345865 |  0.06452376 |  0.0347323  |\n",
              "| Income | -0.30321665 | -0.1951464  | -0.07352773 |  0.34061016 | 0.23345865  |  1.00000000 |  0.68035740 |  0.4908809  |\n",
              "| Occupation | -0.29195832 | -0.2024912  | -0.02948958 |  0.10838805 | 0.06452376  |  0.68035740 |  1.00000000 |  0.5717948  |\n",
              "| Settlement.size | -0.37844469 | -0.3008032  | -0.09704060 |  0.11975129 | 0.03473230  |  0.49088093 |  0.57179484 |  1.0000000  |\n",
              "\n"
            ],
            "text/plain": [
              "                ID          Sex        Marital.status Age         Education \n",
              "ID               1.00000000  0.3282620  0.07440294    -0.08524641 0.01254346\n",
              "Sex              0.32826204  1.0000000  0.56651067    -0.18288480 0.24483756\n",
              "Marital.status   0.07440294  0.5665107  1.00000000    -0.21317835 0.37401654\n",
              "Age             -0.08524641 -0.1828848 -0.21317835     1.00000000 0.65460499\n",
              "Education        0.01254346  0.2448376  0.37401654     0.65460499 1.00000000\n",
              "Income          -0.30321665 -0.1951464 -0.07352773     0.34061016 0.23345865\n",
              "Occupation      -0.29195832 -0.2024912 -0.02948958     0.10838805 0.06452376\n",
              "Settlement.size -0.37844469 -0.3008032 -0.09704060     0.11975129 0.03473230\n",
              "                Income      Occupation  Settlement.size\n",
              "ID              -0.30321665 -0.29195832 -0.3784447     \n",
              "Sex             -0.19514642 -0.20249118 -0.3008032     \n",
              "Marital.status  -0.07352773 -0.02948958 -0.0970406     \n",
              "Age              0.34061016  0.10838805  0.1197513     \n",
              "Education        0.23345865  0.06452376  0.0347323     \n",
              "Income           1.00000000  0.68035740  0.4908809     \n",
              "Occupation       0.68035740  1.00000000  0.5717948     \n",
              "Settlement.size  0.49088093  0.57179484  1.0000000     "
            ]
          },
          "metadata": {},
          "output_type": "display_data"
        }
      ],
      "source": [
        "# computing correlation matrix\n",
        "cor_data = cor(data)\n",
        " \n",
        "print(\"Correlation matrix\")\n",
        "head(cor_data,8)\n"
      ]
    },
    {
      "cell_type": "markdown",
      "id": "e45f4e6a",
      "metadata": {
        "id": "e45f4e6a"
      },
      "source": [
        "# Data visualization "
      ]
    },
    {
      "cell_type": "code",
      "execution_count": null,
      "id": "0ed12330",
      "metadata": {
        "id": "0ed12330",
        "outputId": "6d22893f-e382-48a9-fa54-3ea8ba5ba148"
      },
      "outputs": [
        {
          "name": "stderr",
          "output_type": "stream",
          "text": [
            "`stat_bin()` using `bins = 30`. Pick better value with `binwidth`.\n"
          ]
        },
        {
          "data": {
            "image/png": "[encoded data removed]",
            "text/plain": [
              "plot without title"
            ]
          },
          "metadata": {},
          "output_type": "display_data"
        }
      ],
      "source": [
        "qplot(Income, data = data)"
      ]
    },
    {
      "cell_type": "code",
      "execution_count": null,
      "id": "33fdb744",
      "metadata": {
        "id": "33fdb744",
        "outputId": "1f6c70da-956c-4bdb-ef3d-139398a27db2"
      },
      "outputs": [
        {
          "name": "stderr",
          "output_type": "stream",
          "text": [
            "`stat_bin()` using `bins = 30`. Pick better value with `binwidth`.\n"
          ]
        },
        {
          "data": {
            "image/png": "[encoded data removed]",
            "text/plain": [
              "plot without title"
            ]
          },
          "metadata": {},
          "output_type": "display_data"
        }
      ],
      "source": [
        "qplot(Marital.status, data = data)"
      ]
    },
    {
      "cell_type": "code",
      "execution_count": null,
      "id": "5f2ca99c",
      "metadata": {
        "id": "5f2ca99c",
        "outputId": "89c7801b-6437-4b6d-a651-173f60431588"
      },
      "outputs": [
        {
          "name": "stderr",
          "output_type": "stream",
          "text": [
            "`stat_bin()` using `bins = 30`. Pick better value with `binwidth`.\n"
          ]
        },
        {
          "data": {
            "image/png": "[encoded data removed]",
            "text/plain": [
              "plot without title"
            ]
          },
          "metadata": {},
          "output_type": "display_data"
        }
      ],
      "source": [
        "qplot(Sex, data = data)"
      ]
    },
    {
      "cell_type": "code",
      "execution_count": null,
      "id": "60b6599a",
      "metadata": {
        "id": "60b6599a",
        "outputId": "9f08d427-decd-4050-ba88-879dae2cda74"
      },
      "outputs": [
        {
          "name": "stderr",
          "output_type": "stream",
          "text": [
            "`stat_bin()` using `bins = 30`. Pick better value with `binwidth`.\n"
          ]
        },
        {
          "data": {
            "image/png": "[encoded data removed]",
            "text/plain": [
              "plot without title"
            ]
          },
          "metadata": {},
          "output_type": "display_data"
        }
      ],
      "source": [
        "qplot(Education, data = data)"
      ]
    },
    {
      "cell_type": "code",
      "execution_count": null,
      "id": "ebb7b186",
      "metadata": {
        "id": "ebb7b186",
        "outputId": "ac10940c-86eb-4efc-a1d7-fb684c4a7344"
      },
      "outputs": [
        {
          "name": "stderr",
          "output_type": "stream",
          "text": [
            "`stat_bin()` using `bins = 30`. Pick better value with `binwidth`.\n"
          ]
        },
        {
          "data": {
            "image/png": "[encoded data removed]",
            "text/plain": [
              "plot without title"
            ]
          },
          "metadata": {},
          "output_type": "display_data"
        }
      ],
      "source": [
        "qplot(Occupation, data = data)"
      ]
    },
    {
      "cell_type": "markdown",
      "id": "19a10c5c",
      "metadata": {
        "id": "19a10c5c"
      },
      "source": [
        "# using Age and Income for customer segmentation "
      ]
    },
    {
      "cell_type": "code",
      "execution_count": null,
      "id": "07119cc2",
      "metadata": {
        "id": "07119cc2"
      },
      "outputs": [],
      "source": [
        "df1 <- subset (data, select = c(Age,Income))"
      ]
    },
    {
      "cell_type": "code",
      "execution_count": null,
      "id": "e2caa149",
      "metadata": {
        "id": "e2caa149",
        "outputId": "2b51ec6d-d3fa-4edf-83c6-a9760c94997b"
      },
      "outputs": [
        {
          "data": {
            "text/html": [
              "<table>\n",
              "<thead><tr><th scope=col>Age</th><th scope=col>Income</th></tr></thead>\n",
              "<tbody>\n",
              "\t<tr><td>67    </td><td>124670</td></tr>\n",
              "\t<tr><td>22    </td><td>150773</td></tr>\n",
              "\t<tr><td>49    </td><td> 89210</td></tr>\n",
              "\t<tr><td>45    </td><td>171565</td></tr>\n",
              "\t<tr><td>53    </td><td>149031</td></tr>\n",
              "\t<tr><td>35    </td><td>144848</td></tr>\n",
              "</tbody>\n",
              "</table>\n"
            ],
            "text/latex": [
              "\\begin{tabular}{r|ll}\n",
              " Age & Income\\\\\n",
              "\\hline\n",
              "\t 67     & 124670\\\\\n",
              "\t 22     & 150773\\\\\n",
              "\t 49     &  89210\\\\\n",
              "\t 45     & 171565\\\\\n",
              "\t 53     & 149031\\\\\n",
              "\t 35     & 144848\\\\\n",
              "\\end{tabular}\n"
            ],
            "text/markdown": [
              "\n",
              "| Age | Income |\n",
              "|---|---|\n",
              "| 67     | 124670 |\n",
              "| 22     | 150773 |\n",
              "| 49     |  89210 |\n",
              "| 45     | 171565 |\n",
              "| 53     | 149031 |\n",
              "| 35     | 144848 |\n",
              "\n"
            ],
            "text/plain": [
              "  Age Income\n",
              "1 67  124670\n",
              "2 22  150773\n",
              "3 49   89210\n",
              "4 45  171565\n",
              "5 53  149031\n",
              "6 35  144848"
            ]
          },
          "metadata": {},
          "output_type": "display_data"
        }
      ],
      "source": [
        "head(df1)"
      ]
    },
    {
      "cell_type": "code",
      "execution_count": null,
      "id": "874b9185",
      "metadata": {
        "id": "874b9185",
        "outputId": "6763e252-82f9-4bdd-e9c9-a602a4fd3ffd"
      },
      "outputs": [
        {
          "data": {
            "text/plain": [
              "      Age            Income      \n",
              " Min.   :18.00   Min.   : 35832  \n",
              " 1st Qu.:27.00   1st Qu.: 97663  \n",
              " Median :33.00   Median :115549  \n",
              " Mean   :35.91   Mean   :120954  \n",
              " 3rd Qu.:42.00   3rd Qu.:138072  \n",
              " Max.   :76.00   Max.   :309364  "
            ]
          },
          "metadata": {},
          "output_type": "display_data"
        }
      ],
      "source": [
        "summary(df1)"
      ]
    },
    {
      "cell_type": "code",
      "execution_count": null,
      "id": "b9114424",
      "metadata": {
        "id": "b9114424"
      },
      "outputs": [],
      "source": [
        "df1$Age <-scale(df1$Age)\n",
        "df1$Income <-scale(df1$Income)"
      ]
    },
    {
      "cell_type": "code",
      "execution_count": null,
      "id": "362a6d54",
      "metadata": {
        "id": "362a6d54",
        "outputId": "521b17ce-7284-4601-d6b4-bd1969abab32"
      },
      "outputs": [
        {
          "data": {
            "text/html": [
              "<table>\n",
              "<thead><tr><th scope=col>Age</th><th scope=col>Income</th></tr></thead>\n",
              "<tbody>\n",
              "\t<tr><td> 2.65295099</td><td> 0.09749923</td></tr>\n",
              "\t<tr><td>-1.18683527</td><td> 0.78245869</td></tr>\n",
              "\t<tr><td> 1.11703649</td><td>-0.83299391</td></tr>\n",
              "\t<tr><td> 0.77572215</td><td> 1.32805410</td></tr>\n",
              "\t<tr><td> 1.45835082</td><td> 0.73674749</td></tr>\n",
              "\t<tr><td>-0.07756368</td><td> 0.62698289</td></tr>\n",
              "</tbody>\n",
              "</table>\n"
            ],
            "text/latex": [
              "\\begin{tabular}{r|ll}\n",
              " Age & Income\\\\\n",
              "\\hline\n",
              "\t  2.65295099 &  0.09749923\\\\\n",
              "\t -1.18683527 &  0.78245869\\\\\n",
              "\t  1.11703649 & -0.83299391\\\\\n",
              "\t  0.77572215 &  1.32805410\\\\\n",
              "\t  1.45835082 &  0.73674749\\\\\n",
              "\t -0.07756368 &  0.62698289\\\\\n",
              "\\end{tabular}\n"
            ],
            "text/markdown": [
              "\n",
              "| Age | Income |\n",
              "|---|---|\n",
              "|  2.65295099 |  0.09749923 |\n",
              "| -1.18683527 |  0.78245869 |\n",
              "|  1.11703649 | -0.83299391 |\n",
              "|  0.77572215 |  1.32805410 |\n",
              "|  1.45835082 |  0.73674749 |\n",
              "| -0.07756368 |  0.62698289 |\n",
              "\n"
            ],
            "text/plain": [
              "  Age         Income     \n",
              "1  2.65295099  0.09749923\n",
              "2 -1.18683527  0.78245869\n",
              "3  1.11703649 -0.83299391\n",
              "4  0.77572215  1.32805410\n",
              "5  1.45835082  0.73674749\n",
              "6 -0.07756368  0.62698289"
            ]
          },
          "metadata": {},
          "output_type": "display_data"
        }
      ],
      "source": [
        "head(df1)"
      ]
    },
    {
      "cell_type": "code",
      "execution_count": null,
      "id": "15e47057",
      "metadata": {
        "id": "15e47057",
        "outputId": "d30c1b76-1e71-4de7-97e5-e0c0e6e826e5"
      },
      "outputs": [
        {
          "data": {
            "image/png": "[encoded data removed]",
            "text/plain": [
              "Plot with title \"Scatterplot\""
            ]
          },
          "metadata": {},
          "output_type": "display_data"
        }
      ],
      "source": [
        "plot(data$Age, data$Income, main=\"Scatterplot\",\n",
        "   xlab=\"Age\", ylab=\"Income\", pch=20)"
      ]
    },
    {
      "cell_type": "code",
      "execution_count": null,
      "id": "6a2b2eac",
      "metadata": {
        "id": "6a2b2eac",
        "outputId": "7a99a3d7-ffbf-4822-95db-4dbc630cc9ea"
      },
      "outputs": [
        {
          "ename": "ERROR",
          "evalue": "Error in library(ClusterR): there is no package called 'ClusterR'\n",
          "output_type": "error",
          "traceback": [
            "Error in library(ClusterR): there is no package called 'ClusterR'\nTraceback:\n",
            "1. library(ClusterR)"
          ]
        }
      ],
      "source": [
        "library(ClusterR)\n",
        "library(cluster)"
      ]
    },
    {
      "cell_type": "markdown",
      "id": "131f3352",
      "metadata": {
        "id": "131f3352"
      },
      "source": [
        "# finding the optimal k number using elbo method"
      ]
    },
    {
      "cell_type": "code",
      "execution_count": null,
      "id": "034910b2",
      "metadata": {
        "id": "034910b2",
        "outputId": "bad74f5e-d6c0-4b92-fc5d-9274bde5fe00"
      },
      "outputs": [
        {
          "data": {
            "text/html": [
              "<ol class=list-inline>\n",
              "\t<li>3997.99999999999</li>\n",
              "\t<li>2259.07164604382</li>\n",
              "\t<li>1646.70711311738</li>\n",
              "\t<li>1280.50251188377</li>\n",
              "\t<li>1023.71008183636</li>\n",
              "\t<li>865.453050380305</li>\n",
              "\t<li>750.548298741189</li>\n",
              "\t<li>665.510338340656</li>\n",
              "\t<li>582.277322354159</li>\n",
              "\t<li>510.944570058484</li>\n",
              "</ol>\n"
            ],
            "text/latex": [
              "\\begin{enumerate*}\n",
              "\\item 3997.99999999999\n",
              "\\item 2259.07164604382\n",
              "\\item 1646.70711311738\n",
              "\\item 1280.50251188377\n",
              "\\item 1023.71008183636\n",
              "\\item 865.453050380305\n",
              "\\item 750.548298741189\n",
              "\\item 665.510338340656\n",
              "\\item 582.277322354159\n",
              "\\item 510.944570058484\n",
              "\\end{enumerate*}\n"
            ],
            "text/markdown": [
              "1. 3997.99999999999\n",
              "2. 2259.07164604382\n",
              "3. 1646.70711311738\n",
              "4. 1280.50251188377\n",
              "5. 1023.71008183636\n",
              "6. 865.453050380305\n",
              "7. 750.548298741189\n",
              "8. 665.510338340656\n",
              "9. 582.277322354159\n",
              "10. 510.944570058484\n",
              "\n",
              "\n"
            ],
            "text/plain": [
              " [1] 3998.0000 2259.0716 1646.7071 1280.5025 1023.7101  865.4531  750.5483\n",
              " [8]  665.5103  582.2773  510.9446"
            ]
          },
          "metadata": {},
          "output_type": "display_data"
        },
        {
          "data": {
            "image/png": "[encoded data removed]",
            "text/plain": [
              "plot without title"
            ]
          },
          "metadata": {},
          "output_type": "display_data"
        }
      ],
      "source": [
        "set.seed(123)\n",
        "listK <- 10\n",
        "sse <- sapply(1:listK, \n",
        "              function(k){kmeans(df1, k, nstart=20, iter.max = 10 )$tot.withinss})\n",
        "sse\n",
        "plot(1:listK, sse,\n",
        "     type=\"b\", pch = 19, frame = FALSE, \n",
        "     xlab=\"Number of clusters K\",\n",
        "     ylab=\"Total within-clusters sum of squares\")"
      ]
    },
    {
      "cell_type": "markdown",
      "id": "3a06e93a",
      "metadata": {
        "id": "3a06e93a"
      },
      "source": [
        "# using Age and Income for K-means clusterig "
      ]
    },
    {
      "cell_type": "markdown",
      "id": "60b11692",
      "metadata": {
        "id": "60b11692"
      },
      "source": [
        "### It is clearly noticeable that using age and Income are effective at clustering the customers into segments based on customer similarities"
      ]
    },
    {
      "cell_type": "code",
      "execution_count": null,
      "id": "4c588aa6",
      "metadata": {
        "id": "4c588aa6"
      },
      "outputs": [],
      "source": [
        "set.seed(123)\n",
        "kmeans.re <- kmeans(df1, centers = 5)"
      ]
    },
    {
      "cell_type": "code",
      "execution_count": null,
      "id": "b035361c",
      "metadata": {
        "id": "b035361c",
        "outputId": "566d64b9-c815-47d8-ccd0-b5b7616be347"
      },
      "outputs": [
        {
          "data": {
            "text/html": [
              "<dl class=dl-horizontal>\n",
              "\t<dt>1</dt>\n",
              "\t\t<dd>2</dd>\n",
              "\t<dt>2</dt>\n",
              "\t\t<dd>3</dd>\n",
              "\t<dt>3</dt>\n",
              "\t\t<dd>1</dd>\n",
              "\t<dt>4</dt>\n",
              "\t\t<dd>2</dd>\n",
              "\t<dt>5</dt>\n",
              "\t\t<dd>2</dd>\n",
              "\t<dt>6</dt>\n",
              "\t\t<dd>3</dd>\n",
              "\t<dt>7</dt>\n",
              "\t\t<dd>2</dd>\n",
              "\t<dt>8</dt>\n",
              "\t\t<dd>4</dd>\n",
              "\t<dt>9</dt>\n",
              "\t\t<dd>2</dd>\n",
              "\t<dt>10</dt>\n",
              "\t\t<dd>3</dd>\n",
              "</dl>\n"
            ],
            "text/latex": [
              "\\begin{description*}\n",
              "\\item[1] 2\n",
              "\\item[2] 3\n",
              "\\item[3] 1\n",
              "\\item[4] 2\n",
              "\\item[5] 2\n",
              "\\item[6] 3\n",
              "\\item[7] 2\n",
              "\\item[8] 4\n",
              "\\item[9] 2\n",
              "\\item[10] 3\n",
              "\\end{description*}\n"
            ],
            "text/markdown": [
              "1\n",
              ":   22\n",
              ":   33\n",
              ":   14\n",
              ":   25\n",
              ":   26\n",
              ":   37\n",
              ":   28\n",
              ":   49\n",
              ":   210\n",
              ":   3\n",
              "\n"
            ],
            "text/plain": [
              " 1  2  3  4  5  6  7  8  9 10 \n",
              " 2  3  1  2  2  3  2  4  2  3 "
            ]
          },
          "metadata": {},
          "output_type": "display_data"
        }
      ],
      "source": [
        "head(kmeans.re$cluster, 10)"
      ]
    },
    {
      "cell_type": "code",
      "execution_count": null,
      "id": "e92f46c0",
      "metadata": {
        "id": "e92f46c0"
      },
      "outputs": [],
      "source": [
        "library(ggplot2)"
      ]
    },
    {
      "cell_type": "code",
      "execution_count": null,
      "id": "a89f496e",
      "metadata": {
        "id": "a89f496e",
        "outputId": "988cc23f-74ad-4549-ff50-b3a6f66d188a"
      },
      "outputs": [
        {
          "data": {
            "image/png": "[encoded data removed]",
            "text/plain": [
              "plot without title"
            ]
          },
          "metadata": {},
          "output_type": "display_data"
        }
      ],
      "source": [
        "ggplot(data, aes(x=Age, y=Income, color=kmeans.re$cluster)) + \n",
        "  geom_point(stat = \"identity\", aes(color = as.factor(kmeans.re$cluster))) +\n",
        "  scale_color_discrete(name=\" \",\n",
        "              breaks=c(\"1\", \"2\", \"3\", \"4\", \"5\"),\n",
        "              labels=c(\"Cluster 1\", \"Cluster 2\", \"Cluster 3\", \"Cluster 4\", \"Cluster 5\")) "
      ]
    },
    {
      "cell_type": "code",
      "execution_count": null,
      "id": "10d88294",
      "metadata": {
        "id": "10d88294"
      },
      "outputs": [],
      "source": [
        "set.seed(123)\n",
        "kmeans.re <- kmeans(df1, centers = 4)"
      ]
    },
    {
      "cell_type": "code",
      "execution_count": null,
      "id": "43e0f969",
      "metadata": {
        "id": "43e0f969",
        "outputId": "d4f6f279-158c-4d85-fa91-6052d07eb463"
      },
      "outputs": [
        {
          "data": {
            "text/html": [
              "<dl class=dl-horizontal>\n",
              "\t<dt>1</dt>\n",
              "\t\t<dd>2</dd>\n",
              "\t<dt>2</dt>\n",
              "\t\t<dd>3</dd>\n",
              "\t<dt>3</dt>\n",
              "\t\t<dd>2</dd>\n",
              "\t<dt>4</dt>\n",
              "\t\t<dd>4</dd>\n",
              "\t<dt>5</dt>\n",
              "\t\t<dd>2</dd>\n",
              "\t<dt>6</dt>\n",
              "\t\t<dd>3</dd>\n",
              "\t<dt>7</dt>\n",
              "\t\t<dd>2</dd>\n",
              "\t<dt>8</dt>\n",
              "\t\t<dd>4</dd>\n",
              "\t<dt>9</dt>\n",
              "\t\t<dd>2</dd>\n",
              "\t<dt>10</dt>\n",
              "\t\t<dd>3</dd>\n",
              "</dl>\n"
            ],
            "text/latex": [
              "\\begin{description*}\n",
              "\\item[1] 2\n",
              "\\item[2] 3\n",
              "\\item[3] 2\n",
              "\\item[4] 4\n",
              "\\item[5] 2\n",
              "\\item[6] 3\n",
              "\\item[7] 2\n",
              "\\item[8] 4\n",
              "\\item[9] 2\n",
              "\\item[10] 3\n",
              "\\end{description*}\n"
            ],
            "text/markdown": [
              "1\n",
              ":   22\n",
              ":   33\n",
              ":   24\n",
              ":   45\n",
              ":   26\n",
              ":   37\n",
              ":   28\n",
              ":   49\n",
              ":   210\n",
              ":   3\n",
              "\n"
            ],
            "text/plain": [
              " 1  2  3  4  5  6  7  8  9 10 \n",
              " 2  3  2  4  2  3  2  4  2  3 "
            ]
          },
          "metadata": {},
          "output_type": "display_data"
        }
      ],
      "source": [
        "head(kmeans.re$cluster, 10)"
      ]
    },
    {
      "cell_type": "code",
      "execution_count": null,
      "id": "e0e3272d",
      "metadata": {
        "id": "e0e3272d",
        "outputId": "d80f4c9e-5826-44dc-8d94-a72cc214600b"
      },
      "outputs": [
        {
          "data": {
            "image/png": "[encoded data removed]",
            "text/plain": [
              "plot without title"
            ]
          },
          "metadata": {},
          "output_type": "display_data"
        }
      ],
      "source": [
        "ggplot(data, aes(x=Age, y=Income, color=kmeans.re$cluster)) + \n",
        "  geom_point(stat = \"identity\", aes(color = as.factor(kmeans.re$cluster))) +\n",
        "  scale_color_discrete(name=\" \",\n",
        "              breaks=c(\"1\", \"2\", \"3\", \"4\"),\n",
        "              labels=c(\"Cluster 1\", \"Cluster 2\", \"Cluster 3\", \"Cluster 4\")) "
      ]
    },
    {
      "cell_type": "code",
      "execution_count": null,
      "id": "6163bb31",
      "metadata": {
        "id": "6163bb31"
      },
      "outputs": [],
      "source": [
        "set.seed(123)\n",
        "kmeans.re <- kmeans(df1, centers = 3)"
      ]
    },
    {
      "cell_type": "code",
      "execution_count": null,
      "id": "6caa8560",
      "metadata": {
        "id": "6caa8560",
        "outputId": "93a72d2d-4659-4a2e-d6f0-e49f39efff6e"
      },
      "outputs": [
        {
          "data": {
            "text/html": [
              "<dl class=dl-horizontal>\n",
              "\t<dt>1</dt>\n",
              "\t\t<dd>2</dd>\n",
              "\t<dt>2</dt>\n",
              "\t\t<dd>3</dd>\n",
              "\t<dt>3</dt>\n",
              "\t\t<dd>2</dd>\n",
              "\t<dt>4</dt>\n",
              "\t\t<dd>3</dd>\n",
              "\t<dt>5</dt>\n",
              "\t\t<dd>2</dd>\n",
              "\t<dt>6</dt>\n",
              "\t\t<dd>3</dd>\n",
              "\t<dt>7</dt>\n",
              "\t\t<dd>2</dd>\n",
              "\t<dt>8</dt>\n",
              "\t\t<dd>3</dd>\n",
              "\t<dt>9</dt>\n",
              "\t\t<dd>2</dd>\n",
              "\t<dt>10</dt>\n",
              "\t\t<dd>3</dd>\n",
              "</dl>\n"
            ],
            "text/latex": [
              "\\begin{description*}\n",
              "\\item[1] 2\n",
              "\\item[2] 3\n",
              "\\item[3] 2\n",
              "\\item[4] 3\n",
              "\\item[5] 2\n",
              "\\item[6] 3\n",
              "\\item[7] 2\n",
              "\\item[8] 3\n",
              "\\item[9] 2\n",
              "\\item[10] 3\n",
              "\\end{description*}\n"
            ],
            "text/markdown": [
              "1\n",
              ":   22\n",
              ":   33\n",
              ":   24\n",
              ":   35\n",
              ":   26\n",
              ":   37\n",
              ":   28\n",
              ":   39\n",
              ":   210\n",
              ":   3\n",
              "\n"
            ],
            "text/plain": [
              " 1  2  3  4  5  6  7  8  9 10 \n",
              " 2  3  2  3  2  3  2  3  2  3 "
            ]
          },
          "metadata": {},
          "output_type": "display_data"
        }
      ],
      "source": [
        "head(kmeans.re$cluster, 10)"
      ]
    },
    {
      "cell_type": "code",
      "execution_count": null,
      "id": "b9a8a0f4",
      "metadata": {
        "id": "b9a8a0f4",
        "outputId": "7e5cafb3-9501-458d-d71a-918f5bd9ee10"
      },
      "outputs": [
        {
          "data": {
            "image/png": "[encoded data removed]",
            "text/plain": [
              "plot without title"
            ]
          },
          "metadata": {},
          "output_type": "display_data"
        }
      ],
      "source": [
        "ggplot(data, aes(x=Age, y=Income, color=kmeans.re$cluster)) + \n",
        "  geom_point(stat = \"identity\", aes(color = as.factor(kmeans.re$cluster))) +\n",
        "  scale_color_discrete(name=\" \",\n",
        "              breaks=c(\"1\", \"2\", \"3\"),\n",
        "              labels=c(\"Cluster 1\", \"Cluster 2\", \"Cluster 3\")) "
      ]
    },
    {
      "cell_type": "markdown",
      "id": "a69880cd",
      "metadata": {
        "id": "a69880cd"
      },
      "source": [
        "# using Age and education for customer segmentation "
      ]
    },
    {
      "cell_type": "code",
      "execution_count": null,
      "id": "fe2ad7c3",
      "metadata": {
        "id": "fe2ad7c3"
      },
      "outputs": [],
      "source": [
        "df2 <- subset (data, select = c(Education,Age))"
      ]
    },
    {
      "cell_type": "code",
      "execution_count": null,
      "id": "5ab66847",
      "metadata": {
        "id": "5ab66847",
        "outputId": "250442af-b53f-4491-cf86-201c44ba08d8"
      },
      "outputs": [
        {
          "data": {
            "text/html": [
              "<table>\n",
              "<thead><tr><th scope=col>Education</th><th scope=col>Age</th></tr></thead>\n",
              "<tbody>\n",
              "\t<tr><td>2 </td><td>67</td></tr>\n",
              "\t<tr><td>1 </td><td>22</td></tr>\n",
              "\t<tr><td>1 </td><td>49</td></tr>\n",
              "\t<tr><td>1 </td><td>45</td></tr>\n",
              "\t<tr><td>1 </td><td>53</td></tr>\n",
              "\t<tr><td>1 </td><td>35</td></tr>\n",
              "</tbody>\n",
              "</table>\n"
            ],
            "text/latex": [
              "\\begin{tabular}{r|ll}\n",
              " Education & Age\\\\\n",
              "\\hline\n",
              "\t 2  & 67\\\\\n",
              "\t 1  & 22\\\\\n",
              "\t 1  & 49\\\\\n",
              "\t 1  & 45\\\\\n",
              "\t 1  & 53\\\\\n",
              "\t 1  & 35\\\\\n",
              "\\end{tabular}\n"
            ],
            "text/markdown": [
              "\n",
              "| Education | Age |\n",
              "|---|---|\n",
              "| 2  | 67 |\n",
              "| 1  | 22 |\n",
              "| 1  | 49 |\n",
              "| 1  | 45 |\n",
              "| 1  | 53 |\n",
              "| 1  | 35 |\n",
              "\n"
            ],
            "text/plain": [
              "  Education Age\n",
              "1 2         67 \n",
              "2 1         22 \n",
              "3 1         49 \n",
              "4 1         45 \n",
              "5 1         53 \n",
              "6 1         35 "
            ]
          },
          "metadata": {},
          "output_type": "display_data"
        }
      ],
      "source": [
        "head(df2)"
      ]
    },
    {
      "cell_type": "code",
      "execution_count": null,
      "id": "4fc48b06",
      "metadata": {
        "id": "4fc48b06"
      },
      "outputs": [],
      "source": [
        "df2$Education <-scale(df2$Education)\n",
        "df2$Age <-scale(df2$Age)"
      ]
    },
    {
      "cell_type": "code",
      "execution_count": null,
      "id": "f8beb0de",
      "metadata": {
        "id": "f8beb0de",
        "outputId": "a8e687ee-5ef8-4264-acb1-e05c54b6e5dc"
      },
      "outputs": [
        {
          "data": {
            "text/html": [
              "<table>\n",
              "<thead><tr><th scope=col>Education</th><th scope=col>Age</th></tr></thead>\n",
              "<tbody>\n",
              "\t<tr><td> 1.60392184</td><td> 2.65295099</td></tr>\n",
              "\t<tr><td>-0.06335658</td><td>-1.18683527</td></tr>\n",
              "\t<tr><td>-0.06335658</td><td> 1.11703649</td></tr>\n",
              "\t<tr><td>-0.06335658</td><td> 0.77572215</td></tr>\n",
              "\t<tr><td>-0.06335658</td><td> 1.45835082</td></tr>\n",
              "\t<tr><td>-0.06335658</td><td>-0.07756368</td></tr>\n",
              "</tbody>\n",
              "</table>\n"
            ],
            "text/latex": [
              "\\begin{tabular}{r|ll}\n",
              " Education & Age\\\\\n",
              "\\hline\n",
              "\t  1.60392184 &  2.65295099\\\\\n",
              "\t -0.06335658 & -1.18683527\\\\\n",
              "\t -0.06335658 &  1.11703649\\\\\n",
              "\t -0.06335658 &  0.77572215\\\\\n",
              "\t -0.06335658 &  1.45835082\\\\\n",
              "\t -0.06335658 & -0.07756368\\\\\n",
              "\\end{tabular}\n"
            ],
            "text/markdown": [
              "\n",
              "| Education | Age |\n",
              "|---|---|\n",
              "|  1.60392184 |  2.65295099 |\n",
              "| -0.06335658 | -1.18683527 |\n",
              "| -0.06335658 |  1.11703649 |\n",
              "| -0.06335658 |  0.77572215 |\n",
              "| -0.06335658 |  1.45835082 |\n",
              "| -0.06335658 | -0.07756368 |\n",
              "\n"
            ],
            "text/plain": [
              "  Education   Age        \n",
              "1  1.60392184  2.65295099\n",
              "2 -0.06335658 -1.18683527\n",
              "3 -0.06335658  1.11703649\n",
              "4 -0.06335658  0.77572215\n",
              "5 -0.06335658  1.45835082\n",
              "6 -0.06335658 -0.07756368"
            ]
          },
          "metadata": {},
          "output_type": "display_data"
        }
      ],
      "source": [
        "head(df2)"
      ]
    },
    {
      "cell_type": "code",
      "execution_count": null,
      "id": "54a50a72",
      "metadata": {
        "id": "54a50a72",
        "outputId": "161e1581-5d92-42cf-ae39-3ab1a6c2b05a"
      },
      "outputs": [
        {
          "data": {
            "text/html": [
              "<ol class=list-inline>\n",
              "\t<li>3998.00000000007</li>\n",
              "\t<li>1775.44855591126</li>\n",
              "\t<li>1066.90043206448</li>\n",
              "\t<li>586.885558536928</li>\n",
              "\t<li>408.35745558103</li>\n",
              "\t<li>267.323990556892</li>\n",
              "\t<li>200.158019407956</li>\n",
              "\t<li>159.152299121332</li>\n",
              "\t<li>138.627824208065</li>\n",
              "\t<li>103.731101163453</li>\n",
              "</ol>\n"
            ],
            "text/latex": [
              "\\begin{enumerate*}\n",
              "\\item 3998.00000000007\n",
              "\\item 1775.44855591126\n",
              "\\item 1066.90043206448\n",
              "\\item 586.885558536928\n",
              "\\item 408.35745558103\n",
              "\\item 267.323990556892\n",
              "\\item 200.158019407956\n",
              "\\item 159.152299121332\n",
              "\\item 138.627824208065\n",
              "\\item 103.731101163453\n",
              "\\end{enumerate*}\n"
            ],
            "text/markdown": [
              "1. 3998.00000000007\n",
              "2. 1775.44855591126\n",
              "3. 1066.90043206448\n",
              "4. 586.885558536928\n",
              "5. 408.35745558103\n",
              "6. 267.323990556892\n",
              "7. 200.158019407956\n",
              "8. 159.152299121332\n",
              "9. 138.627824208065\n",
              "10. 103.731101163453\n",
              "\n",
              "\n"
            ],
            "text/plain": [
              " [1] 3998.0000 1775.4486 1066.9004  586.8856  408.3575  267.3240  200.1580\n",
              " [8]  159.1523  138.6278  103.7311"
            ]
          },
          "metadata": {},
          "output_type": "display_data"
        },
        {
          "data": {
            "image/png": "[encoded data removed]",
            "text/plain": [
              "plot without title"
            ]
          },
          "metadata": {},
          "output_type": "display_data"
        }
      ],
      "source": [
        "set.seed(123)\n",
        "listK <- 10\n",
        "sse <- sapply(1:listK, \n",
        "              function(k){kmeans(df2, k, nstart=20, iter.max = 10 )$tot.withinss})\n",
        "sse\n",
        "plot(1:listK, sse,\n",
        "     type=\"b\", pch = 19, frame = FALSE, \n",
        "     xlab=\"Number of clusters K\",\n",
        "     ylab=\"Total within-clusters sum of squares\")"
      ]
    },
    {
      "cell_type": "markdown",
      "id": "8cead9de",
      "metadata": {
        "id": "8cead9de"
      },
      "source": [
        "# using Age and education for customer segmentation "
      ]
    },
    {
      "cell_type": "markdown",
      "id": "9d3e9cc4",
      "metadata": {
        "id": "9d3e9cc4"
      },
      "source": [
        "### It is clearly noticeable that using age and education are not effective at clustering the customers into segments based on customer similarities "
      ]
    },
    {
      "cell_type": "code",
      "execution_count": null,
      "id": "40684262",
      "metadata": {
        "id": "40684262"
      },
      "outputs": [],
      "source": [
        "set.seed(123)\n",
        "kmeans.re1 <- kmeans(df2, centers = 4)"
      ]
    },
    {
      "cell_type": "code",
      "execution_count": null,
      "id": "09ebb305",
      "metadata": {
        "id": "09ebb305",
        "outputId": "b89c1554-5989-4d99-b068-ac6b5e00a4ea"
      },
      "outputs": [
        {
          "data": {
            "text/html": [
              "<dl class=dl-horizontal>\n",
              "\t<dt>1</dt>\n",
              "\t\t<dd>1</dd>\n",
              "\t<dt>2</dt>\n",
              "\t\t<dd>2</dd>\n",
              "\t<dt>3</dt>\n",
              "\t\t<dd>2</dd>\n",
              "\t<dt>4</dt>\n",
              "\t\t<dd>2</dd>\n",
              "\t<dt>5</dt>\n",
              "\t\t<dd>2</dd>\n",
              "\t<dt>6</dt>\n",
              "\t\t<dd>2</dd>\n",
              "\t<dt>7</dt>\n",
              "\t\t<dd>2</dd>\n",
              "\t<dt>8</dt>\n",
              "\t\t<dd>2</dd>\n",
              "\t<dt>9</dt>\n",
              "\t\t<dd>1</dd>\n",
              "\t<dt>10</dt>\n",
              "\t\t<dd>2</dd>\n",
              "</dl>\n"
            ],
            "text/latex": [
              "\\begin{description*}\n",
              "\\item[1] 1\n",
              "\\item[2] 2\n",
              "\\item[3] 2\n",
              "\\item[4] 2\n",
              "\\item[5] 2\n",
              "\\item[6] 2\n",
              "\\item[7] 2\n",
              "\\item[8] 2\n",
              "\\item[9] 1\n",
              "\\item[10] 2\n",
              "\\end{description*}\n"
            ],
            "text/markdown": [
              "1\n",
              ":   12\n",
              ":   23\n",
              ":   24\n",
              ":   25\n",
              ":   26\n",
              ":   27\n",
              ":   28\n",
              ":   29\n",
              ":   110\n",
              ":   2\n",
              "\n"
            ],
            "text/plain": [
              " 1  2  3  4  5  6  7  8  9 10 \n",
              " 1  2  2  2  2  2  2  2  1  2 "
            ]
          },
          "metadata": {},
          "output_type": "display_data"
        }
      ],
      "source": [
        "head(kmeans.re1$cluster, 10)"
      ]
    },
    {
      "cell_type": "code",
      "execution_count": null,
      "id": "1e301955",
      "metadata": {
        "id": "1e301955",
        "outputId": "73727078-35f0-451b-f64a-c7a5e80905d3"
      },
      "outputs": [
        {
          "data": {
            "image/png": "[encoded data removed]",
            "text/plain": [
              "plot without title"
            ]
          },
          "metadata": {},
          "output_type": "display_data"
        }
      ],
      "source": [
        "ggplot(df2, aes(data$Education, data$Age, color=kmeans.re1$cluster)) + \n",
        "  geom_point() +\n",
        "  scale_colour_gradientn(colors=rainbow(4)) + xlab(\"Age\") + ylab(\"Education\") + theme(legend.text = element_text(colour=\"Blue\", size = 10, face = \"italic\"))\n"
      ]
    },
    {
      "cell_type": "code",
      "execution_count": null,
      "id": "7183eed3",
      "metadata": {
        "id": "7183eed3"
      },
      "outputs": [],
      "source": []
    }
  ],
  "metadata": {
    "kernelspec": {
      "display_name": "R",
      "language": "R",
      "name": "ir"
    },
    "language_info": {
      "codemirror_mode": "r",
      "file_extension": ".r",
      "mimetype": "text/x-r-source",
      "name": "R",
      "pygments_lexer": "r",
      "version": "3.6.1"
    },
    "colab": {
      "provenance": [],
      "include_colab_link": true
    }
  },
  "nbformat": 4,
  "nbformat_minor": 5
}